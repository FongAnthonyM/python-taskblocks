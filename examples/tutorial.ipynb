{
 "cells": [
  {
   "cell_type": "markdown",
   "metadata": {},
   "source": []
  },
  {
   "cell_type": "markdown",
   "metadata": {},
   "source": []
  },
  {
   "cell_type": "code",
   "execution_count": 1,
   "metadata": {
    "ExecuteTime": {
     "end_time": "2023-06-05T18:02:20.572152825Z",
     "start_time": "2023-06-05T18:02:20.566438934Z"
    }
   },
   "outputs": [],
   "source": [
    "# Imports for the example\n",
    "from datetime import datetime\n",
    "import time"
   ]
  },
  {
   "cell_type": "markdown",
   "metadata": {},
   "source": [
    "# Imports"
   ]
  },
  {
   "cell_type": "code",
   "execution_count": 2,
   "metadata": {
    "ExecuteTime": {
     "end_time": "2023-06-05T18:02:20.684131768Z",
     "start_time": "2023-06-05T18:02:20.569901775Z"
    }
   },
   "outputs": [],
   "source": [
    "from taskblocks import TaskBlock, AsyncEvent, AsyncQueue"
   ]
  },
  {
   "cell_type": "markdown",
   "metadata": {},
   "source": [
    "# Create a TaskBlock"
   ]
  },
  {
   "cell_type": "code",
   "execution_count": 3,
   "metadata": {
    "ExecuteTime": {
     "end_time": "2023-06-05T18:02:20.694676115Z",
     "start_time": "2023-06-05T18:02:20.690734107Z"
    }
   },
   "outputs": [],
   "source": [
    "class ExampleTaskBlock(TaskBlock):\n",
    "\n",
    "    def construct_io(self) -> None:\n",
    "        \"\"\"Constructs the I/O for this TaskBlock.\"\"\"\n",
    "        # Inputs\n",
    "        self.inputs.queues[\"main_input\"] = AsyncQueue()\n",
    "\n",
    "        # Outputs\n",
    "        self.outputs.events[\"setup_check\"] = AsyncEvent()\n",
    "        self.outputs.events[\"teardown_check\"] = AsyncEvent()\n",
    "\n",
    "        self.outputs.queues[\"main_output\"] = AsyncQueue()\n",
    "\n",
    "    def setup(self) -> None:\n",
    "        \"\"\"This method runs before the task loop only once.\"\"\"\n",
    "        # Set an event when this TaskBlock starts\n",
    "        self.outputs.events[\"setup_check\"].set()\n",
    "\n",
    "    async def task(self) -> None:\n",
    "        \"\"\"This method will run either once or indefinitely depending on if \"running\" or \"starting\" the TaskBlock\"\"\"\n",
    "        # Try and get an item from the queue.\n",
    "        try:\n",
    "            in_item = await self.inputs.queues[\"main_input\"].get_async()\n",
    "\n",
    "            if in_item == 0:\n",
    "                self.loop_event.clear()\n",
    "                return\n",
    "        except InterruptedError:\n",
    "            return  # If interrupted, skip this loop of the task.\n",
    "\n",
    "        print(f\"{datetime.now().strftime('%H:%M:%S.%f')}: Received {in_item} in task\")\n",
    "\n",
    "        # Do something to transform the input item to make an output item.\n",
    "        out_item = in_item + 1\n",
    "\n",
    "        # Wait to simulate a long compute time\n",
    "        time.sleep(2)\n",
    "\n",
    "        # Put the resulting item on the queue.\n",
    "        await self.outputs.queues[\"main_output\"].put_async(out_item)\n",
    "\n",
    "    def teardown(self) -> None:\n",
    "        \"\"\"This method runs after the task loop only once.\"\"\"\n",
    "        # Set an event when this TaskBlock end\n",
    "        self.outputs.events[\"teardown_check\"].set()\n",
    "\n",
    "    def stop(self) -> None:\n",
    "        \"\"\"Stops the task.\"\"\"\n",
    "        super().stop()  # Turn off the task loop.\n",
    "        self.inputs.queues[\"main_input\"].get_interrupt.set()  # Interrupt the task so it can escape out."
   ]
  },
  {
   "cell_type": "code",
   "execution_count": 4,
   "metadata": {
    "ExecuteTime": {
     "end_time": "2023-06-05T18:02:24.778841071Z",
     "start_time": "2023-06-05T18:02:20.701729306Z"
    }
   },
   "outputs": [
    {
     "name": "stdout",
     "output_type": "stream",
     "text": [
      "11:02:20.699423: Setup event is False\n",
      "11:02:20.743160: Received 1 in task\n",
      "11:02:20.740905: Setup event is True\n",
      "\n",
      "11:02:20.741170: Putting items on the queue\n",
      "11:02:20.743187: Items on the queue\n",
      "11:02:20.743288: Waiting for results\n",
      "11:02:22.749402: Received 2 in task\n",
      "11:02:22.751237: 2 was returned from the TaskBlock\n",
      "11:02:24.771335: 3 was returned from the TaskBlock\n",
      "\n",
      "11:02:24.771459: Teardown event is False\n",
      "11:02:24.771985: Teardown event is True\n",
      "\n"
     ]
    }
   ],
   "source": [
    "# Create TaskBlock object\n",
    "task = [None] * 4\n",
    "input_q = AsyncQueue()\n",
    "output_q = AsyncQueue()\n",
    "for i in range(4):\n",
    "    task[i] = t = ExampleTaskBlock(is_process=True)\n",
    "    t.inputs.queues[\"main_input\"] = input_q\n",
    "    t.outputs.queues[\"main_output\"] = output_q\n",
    "\n",
    "# Start TaskBlock in separate process and print when setup is complete\n",
    "print(f\"{datetime.now().strftime('%H:%M:%S.%f')}: Setup event is {task.outputs.events['setup_check'].is_set()}\")\n",
    "\n",
    "task.start()  # Will continuously execute the task until its stop method is called from any process.\n",
    "task.outputs.events[\"setup_check\"].wait()\n",
    "\n",
    "print(f\"{datetime.now().strftime('%H:%M:%S.%f')}: Setup event is {task.outputs.events['setup_check'].is_set()}\\n\")\n",
    "\n",
    "\n",
    "# Put some data on the queue and let the TaskBlock process it\n",
    "print(f\"{datetime.now().strftime('%H:%M:%S.%f')}: Putting items on the queue\")\n",
    "\n",
    "task.inputs.queues[\"main_input\"].put(1)\n",
    "task.inputs.queues[\"main_input\"].put(2)\n",
    "\n",
    "print(f\"{datetime.now().strftime('%H:%M:%S.%f')}: Items on the queue\")\n",
    "print(f\"{datetime.now().strftime('%H:%M:%S.%f')}: Waiting for results\")\n",
    "out = task.outputs.queues[\"main_output\"].get()\n",
    "print(f\"{datetime.now().strftime('%H:%M:%S.%f')}: {out} was returned from the TaskBlock\")\n",
    "out = task.outputs.queues[\"main_output\"].get()\n",
    "print(f\"{datetime.now().strftime('%H:%M:%S.%f')}: {out} was returned from the TaskBlock\\n\")\n",
    "\n",
    "\n",
    "# Tells the TaskBlock to stop and print when teardown is complete\n",
    "print(f\"{datetime.now().strftime('%H:%M:%S.%f')}: Teardown event is {task.outputs.events['teardown_check'].is_set()}\")\n",
    "\n",
    "task.stop()\n",
    "task.outputs.events[\"teardown_check\"].wait()\n",
    "\n",
    "print(f\"{datetime.now().strftime('%H:%M:%S.%f')}: Teardown event is {task.outputs.events['teardown_check'].is_set()}\\n\")\n"
   ]
  },
  {
   "cell_type": "code",
   "execution_count": 4,
   "metadata": {
    "ExecuteTime": {
     "end_time": "2023-06-05T18:02:24.792830177Z",
     "start_time": "2023-06-05T18:02:24.782718416Z"
    }
   },
   "outputs": [],
   "source": []
  }
 ],
 "metadata": {
  "kernelspec": {
   "display_name": "Python 3 (ipykernel)",
   "language": "python",
   "name": "python3"
  },
  "language_info": {
   "codemirror_mode": {
    "name": "ipython",
    "version": 3
   },
   "file_extension": ".py",
   "mimetype": "text/x-python",
   "name": "python",
   "nbconvert_exporter": "python",
   "pygments_lexer": "ipython3",
   "version": "3.10.11"
  }
 },
 "nbformat": 4,
 "nbformat_minor": 1
}
