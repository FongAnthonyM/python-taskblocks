{
 "cells": [
  {
   "cell_type": "markdown",
   "metadata": {},
   "source": []
  },
  {
   "cell_type": "markdown",
   "metadata": {},
   "source": []
  },
  {
   "cell_type": "code",
   "execution_count": 1,
   "metadata": {
    "ExecuteTime": {
     "end_time": "2023-06-03T01:19:02.914016300Z",
     "start_time": "2023-06-03T01:19:02.905817300Z"
    }
   },
   "outputs": [],
   "source": [
    "# Imports for the example\n",
    "from datetime import datetime\n",
    "import time"
   ]
  },
  {
   "cell_type": "markdown",
   "metadata": {},
   "source": [
    "# Imports"
   ]
  },
  {
   "cell_type": "code",
   "execution_count": 2,
   "metadata": {
    "ExecuteTime": {
     "end_time": "2023-06-03T01:19:03.425349500Z",
     "start_time": "2023-06-03T01:19:02.915017800Z"
    }
   },
   "outputs": [],
   "source": [
    "from taskblocks import TaskBlock, AsyncEvent, AsyncQueue"
   ]
  },
  {
   "cell_type": "markdown",
   "metadata": {},
   "source": [
    "# Create a TaskBlock"
   ]
  },
  {
   "cell_type": "code",
   "execution_count": 3,
   "metadata": {
    "ExecuteTime": {
     "end_time": "2023-06-03T01:19:03.443218800Z",
     "start_time": "2023-06-03T01:19:03.430936700Z"
    }
   },
   "outputs": [],
   "source": [
    "class ExampleTaskBlock(TaskBlock):\n",
    "\n",
    "    def construct_io(self) -> None:\n",
    "        \"\"\"Constructs the I/O for this TaskBlock.\"\"\"\n",
    "        # Inputs\n",
    "        self.inputs.queues[\"main_input\"] = AsyncQueue()\n",
    "\n",
    "        # Outputs\n",
    "        self.outputs.events[\"setup_check\"] = AsyncEvent()\n",
    "        self.outputs.events[\"teardown_check\"] = AsyncEvent()\n",
    "\n",
    "        self.outputs.queues[\"main_output\"] = AsyncQueue()\n",
    "\n",
    "    def setup(self) -> None:\n",
    "        \"\"\"This method runs before the task loop only once.\"\"\"\n",
    "        # Set an event when this TaskBlock starts\n",
    "        self.outputs.events[\"setup_check\"].set()\n",
    "\n",
    "    async def task(self) -> None:\n",
    "        \"\"\"This method will run either once or indefinitely depending on if \"running\" or \"starting\" the TaskBlock\"\"\"\n",
    "        # Try and get an item from the queue.\n",
    "        try:\n",
    "            in_item = await self.inputs.queues[\"main_input\"].get_async()\n",
    "        except InterruptedError:\n",
    "            return  # If interrupted, skip this loop of the task.\n",
    "\n",
    "        print(f\"{datetime.now().strftime('%H:%M:%S.%f')}: Received {in_item} in task\")\n",
    "\n",
    "        # Do something to transform the input item to make an output item.\n",
    "        out_item = in_item + 1\n",
    "\n",
    "        # Wait to simulate a long compute time\n",
    "        time.sleep(2)\n",
    "\n",
    "        # Put the resulting item on the queue.\n",
    "        await self.outputs.queues[\"main_output\"].put_async(out_item)\n",
    "\n",
    "    def teardown(self) -> None:\n",
    "        \"\"\"This method runs after the task loop only once.\"\"\"\n",
    "        # Set an event when this TaskBlock end\n",
    "        self.outputs.events[\"teardown_check\"].set()\n",
    "\n",
    "    def stop(self) -> None:\n",
    "        \"\"\"Stops the task.\"\"\"\n",
    "        super().stop()  # Turn off the task loop.\n",
    "        self.inputs.queues[\"main_input\"].get_interrupt.set()  # Interrupt the task so it can escape out."
   ]
  },
  {
   "cell_type": "code",
   "execution_count": 4,
   "metadata": {
    "ExecuteTime": {
     "end_time": "2023-06-03T01:19:12.401379600Z",
     "start_time": "2023-06-03T01:19:03.446721200Z"
    }
   },
   "outputs": [
    {
     "name": "stdout",
     "output_type": "stream",
     "text": [
      "18:23:00: Setup event is False\n"
     ]
    },
    {
     "ename": "KeyboardInterrupt",
     "evalue": "",
     "output_type": "error",
     "traceback": [
      "\u001B[1;31m---------------------------------------------------------------------------\u001B[0m",
      "\u001B[1;31mKeyboardInterrupt\u001B[0m                         Traceback (most recent call last)",
      "Cell \u001B[1;32mIn[4], line 9\u001B[0m\n\u001B[0;32m      6\u001B[0m \u001B[38;5;28mprint\u001B[39m(\u001B[38;5;124mf\u001B[39m\u001B[38;5;124m\"\u001B[39m\u001B[38;5;132;01m{\u001B[39;00mtime\u001B[38;5;241m.\u001B[39mstrftime(\u001B[38;5;124m'\u001B[39m\u001B[38;5;124m%\u001B[39m\u001B[38;5;124mH:\u001B[39m\u001B[38;5;124m%\u001B[39m\u001B[38;5;124mM:\u001B[39m\u001B[38;5;124m%\u001B[39m\u001B[38;5;124mS\u001B[39m\u001B[38;5;124m'\u001B[39m,\u001B[38;5;250m \u001B[39mtime\u001B[38;5;241m.\u001B[39mlocaltime())\u001B[38;5;132;01m}\u001B[39;00m\u001B[38;5;124m: Setup event is \u001B[39m\u001B[38;5;132;01m{\u001B[39;00mtask\u001B[38;5;241m.\u001B[39moutputs\u001B[38;5;241m.\u001B[39mevents[\u001B[38;5;124m'\u001B[39m\u001B[38;5;124msetup_check\u001B[39m\u001B[38;5;124m'\u001B[39m]\u001B[38;5;241m.\u001B[39mis_set()\u001B[38;5;132;01m}\u001B[39;00m\u001B[38;5;124m\"\u001B[39m)\n\u001B[0;32m      8\u001B[0m task\u001B[38;5;241m.\u001B[39mstart()  \u001B[38;5;66;03m# Will continuously execute the task until its stop method is called from any process.\u001B[39;00m\n\u001B[1;32m----> 9\u001B[0m \u001B[43mtask\u001B[49m\u001B[38;5;241;43m.\u001B[39;49m\u001B[43moutputs\u001B[49m\u001B[38;5;241;43m.\u001B[39;49m\u001B[43mevents\u001B[49m\u001B[43m[\u001B[49m\u001B[38;5;124;43m\"\u001B[39;49m\u001B[38;5;124;43msetup_check\u001B[39;49m\u001B[38;5;124;43m\"\u001B[39;49m\u001B[43m]\u001B[49m\u001B[38;5;241;43m.\u001B[39;49m\u001B[43mwait\u001B[49m\u001B[43m(\u001B[49m\u001B[43m)\u001B[49m\n\u001B[0;32m     11\u001B[0m \u001B[38;5;28mprint\u001B[39m(\u001B[38;5;124mf\u001B[39m\u001B[38;5;124m\"\u001B[39m\u001B[38;5;132;01m{\u001B[39;00mtime\u001B[38;5;241m.\u001B[39mstrftime(\u001B[38;5;124m'\u001B[39m\u001B[38;5;124m%\u001B[39m\u001B[38;5;124mH:\u001B[39m\u001B[38;5;124m%\u001B[39m\u001B[38;5;124mM:\u001B[39m\u001B[38;5;124m%\u001B[39m\u001B[38;5;124mS\u001B[39m\u001B[38;5;124m'\u001B[39m,\u001B[38;5;250m \u001B[39mtime\u001B[38;5;241m.\u001B[39mlocaltime())\u001B[38;5;132;01m}\u001B[39;00m\u001B[38;5;124m: Setup event is \u001B[39m\u001B[38;5;132;01m{\u001B[39;00mtask\u001B[38;5;241m.\u001B[39moutputs\u001B[38;5;241m.\u001B[39mevents[\u001B[38;5;124m'\u001B[39m\u001B[38;5;124msetup_check\u001B[39m\u001B[38;5;124m'\u001B[39m]\u001B[38;5;241m.\u001B[39mis_set()\u001B[38;5;132;01m}\u001B[39;00m\u001B[38;5;130;01m\\n\u001B[39;00m\u001B[38;5;124m\"\u001B[39m)\n\u001B[0;32m     14\u001B[0m \u001B[38;5;66;03m# Put some data on the queue and let the TaskBlock process it\u001B[39;00m\n",
      "File \u001B[1;32mY:\\Libraries\\Projects\\Python\\python-taskblocks\\src\\taskblocks\\io\\synchronize\\asyncevent.py:68\u001B[0m, in \u001B[0;36mAsyncEvent.wait\u001B[1;34m(self, timeout)\u001B[0m\n\u001B[0;32m     56\u001B[0m \u001B[38;5;250m\u001B[39m\u001B[38;5;124;03m\"\"\"Waits for the Event to be changed to set.\u001B[39;00m\n\u001B[0;32m     57\u001B[0m \n\u001B[0;32m     58\u001B[0m \u001B[38;5;124;03mArgs:\u001B[39;00m\n\u001B[1;32m   (...)\u001B[0m\n\u001B[0;32m     65\u001B[0m \u001B[38;5;124;03m    InterruptedError: When this method is interrupted by an interrupt event.\u001B[39;00m\n\u001B[0;32m     66\u001B[0m \u001B[38;5;124;03m\"\"\"\u001B[39;00m\n\u001B[0;32m     67\u001B[0m \u001B[38;5;28;01mif\u001B[39;00m timeout \u001B[38;5;129;01mis\u001B[39;00m \u001B[38;5;28;01mNone\u001B[39;00m:\n\u001B[1;32m---> 68\u001B[0m     \u001B[38;5;28;01mwhile\u001B[39;00m \u001B[38;5;129;01mnot\u001B[39;00m \u001B[38;5;28;43mself\u001B[39;49m\u001B[38;5;241;43m.\u001B[39;49m\u001B[43mhold_interrupt\u001B[49m\u001B[38;5;241;43m.\u001B[39;49m\u001B[43mis_set\u001B[49m\u001B[43m(\u001B[49m\u001B[43m)\u001B[49m:\n\u001B[0;32m     69\u001B[0m         \u001B[38;5;28;01mwith\u001B[39;00m \u001B[38;5;28mself\u001B[39m\u001B[38;5;241m.\u001B[39m_cond:\n\u001B[0;32m     70\u001B[0m             \u001B[38;5;28;01mif\u001B[39;00m \u001B[38;5;28mself\u001B[39m\u001B[38;5;241m.\u001B[39m_flag\u001B[38;5;241m.\u001B[39macquire(\u001B[38;5;28;01mFalse\u001B[39;00m):\n",
      "File \u001B[1;32mC:\\Program Files\\Python310\\lib\\multiprocessing\\synchronize.py:329\u001B[0m, in \u001B[0;36mEvent.is_set\u001B[1;34m(self)\u001B[0m\n\u001B[0;32m    327\u001B[0m \u001B[38;5;28;01mdef\u001B[39;00m \u001B[38;5;21mis_set\u001B[39m(\u001B[38;5;28mself\u001B[39m):\n\u001B[0;32m    328\u001B[0m     \u001B[38;5;28;01mwith\u001B[39;00m \u001B[38;5;28mself\u001B[39m\u001B[38;5;241m.\u001B[39m_cond:\n\u001B[1;32m--> 329\u001B[0m         \u001B[38;5;28;01mif\u001B[39;00m \u001B[38;5;28;43mself\u001B[39;49m\u001B[38;5;241;43m.\u001B[39;49m\u001B[43m_flag\u001B[49m\u001B[38;5;241;43m.\u001B[39;49m\u001B[43macquire\u001B[49m\u001B[43m(\u001B[49m\u001B[38;5;28;43;01mFalse\u001B[39;49;00m\u001B[43m)\u001B[49m:\n\u001B[0;32m    330\u001B[0m             \u001B[38;5;28mself\u001B[39m\u001B[38;5;241m.\u001B[39m_flag\u001B[38;5;241m.\u001B[39mrelease()\n\u001B[0;32m    331\u001B[0m             \u001B[38;5;28;01mreturn\u001B[39;00m \u001B[38;5;28;01mTrue\u001B[39;00m\n",
      "\u001B[1;31mKeyboardInterrupt\u001B[0m: "
     ]
    }
   ],
   "source": [
    "# Create TaskBlock object\n",
    "task = ExampleTaskBlock(is_process=True)\n",
    "\n",
    "\n",
    "# Start TaskBlock in separate process and print when setup is complete\n",
    "print(f\"{datetime.now().strftime('%H:%M:%S.%f')}: Setup event is {task.outputs.events['setup_check'].is_set()}\")\n",
    "\n",
    "task.start()  # Will continuously execute the task until its stop method is called from any process.\n",
    "task.outputs.events[\"setup_check\"].wait()\n",
    "\n",
    "print(f\"{datetime.now().strftime('%H:%M:%S.%f')}: Setup event is {task.outputs.events['setup_check'].is_set()}\\n\")\n",
    "\n",
    "\n",
    "# Put some data on the queue and let the TaskBlock process it\n",
    "print(f\"{datetime.now().strftime('%H:%M:%S.%f')}: Putting items on the queue\")\n",
    "\n",
    "task.inputs.queues[\"main_input\"].put(1)\n",
    "task.inputs.queues[\"main_input\"].put(2)\n",
    "\n",
    "print(f\"{datetime.now().strftime('%H:%M:%S.%f')}: Items on the queue\")\n",
    "print(f\"{datetime.now().strftime('%H:%M:%S.%f')}: Waiting for results\")\n",
    "out = task.outputs.queues[\"main_output\"].get()\n",
    "print(f\"{datetime.now().strftime('%H:%M:%S.%f')}: {out} was returned from the TaskBlock\")\n",
    "out = task.outputs.queues[\"main_output\"].get()\n",
    "print(f\"{datetime.now().strftime('%H:%M:%S.%f')}: {out} was returned from the TaskBlock\\n\")\n",
    "\n",
    "\n",
    "# Tells the TaskBlock to stop and print when teardown is complete\n",
    "print(f\"{datetime.now().strftime('%H:%M:%S.%f')}: Teardown event is {task.outputs.events['teardown_check'].is_set()}\")\n",
    "\n",
    "task.stop()\n",
    "task.outputs.events[\"teardown_check\"].wait()\n",
    "\n",
    "print(f\"{datetime.now().strftime('%H:%M:%S.%f')}: Teardown event is {task.outputs.events['teardown_check'].is_set()}\\n\")\n"
   ]
  },
  {
   "cell_type": "code",
   "execution_count": null,
   "metadata": {},
   "outputs": [],
   "source": []
  }
 ],
 "metadata": {
  "kernelspec": {
   "display_name": "Python 3 (ipykernel)",
   "language": "python",
   "name": "python3"
  },
  "language_info": {
   "codemirror_mode": {
    "name": "ipython",
    "version": 3
   },
   "file_extension": ".py",
   "mimetype": "text/x-python",
   "name": "python",
   "nbconvert_exporter": "python",
   "pygments_lexer": "ipython3",
   "version": "3.10.11"
  }
 },
 "nbformat": 4,
 "nbformat_minor": 1
}
